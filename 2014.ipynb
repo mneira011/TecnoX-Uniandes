{
 "cells": [
  {
   "cell_type": "code",
   "execution_count": 19,
   "metadata": {
    "collapsed": false
   },
   "outputs": [
    {
     "name": "stdout",
     "output_type": "stream",
     "text": [
      "Populating the interactive namespace from numpy and matplotlib\n"
     ]
    }
   ],
   "source": [
    "%pylab inline\n",
    "#A=genfromtxt(\"./input 2014.txt\")\n",
    "#arch=np.genfromtxt(\"./Rayleigh.csv\", delimiter =\",\")\n",
    "IN=numpy.loadtxt(\"Input2014.txt\")"
   ]
  },
  {
   "cell_type": "code",
   "execution_count": 20,
   "metadata": {
    "collapsed": false
   },
   "outputs": [
    {
     "name": "stdout",
     "output_type": "stream",
     "text": [
      "19801\n"
     ]
    }
   ],
   "source": [
    "\n",
    "print size(IN)"
   ]
  },
  {
   "cell_type": "code",
   "execution_count": 21,
   "metadata": {
    "collapsed": false
   },
   "outputs": [
    {
     "name": "stdout",
     "output_type": "stream",
     "text": [
      "35001\n"
     ]
    }
   ],
   "source": [
    "#First,we define the value of h,the corresponding range in x and the constants\n",
    "#If you need more information about the parameters of our model please visit our Wiki. \n",
    "h=0.200 #step value\n",
    "a=90.000   #important, adjusted value \n",
    "bXR=300.000 #No va \n",
    "kXR=3000.000 #typical value \n",
    "gXR=0.060 #real, checked \n",
    "dXRa=0.1998 #real, important not checked \n",
    "aX=0.004691138 #real, basal checked, important\n",
    "bX=300.000 #typical value \n",
    "kc=0.000001406334639 #real, important \n",
    "nX=1.000 #Assumed ...why?\n",
    "kx=1409.148 #not important \n",
    "gCY=0.00071666667 #important checked, strange value  \n",
    "kXRa=3000.000 #esto no va \n",
    "gXRa=0.0231 #not important not checked  \n",
    "\n",
    "\n",
    "n_points = int((7000.0+h)/h)\n",
    "t = zeros(n_points)\n",
    "XR = zeros(n_points)\n",
    "CY = zeros(n_points) \n",
    "A = zeros(n_points)\n",
    "XRa = zeros(n_points)\n",
    "#A no cambia \n",
    "print n_points"
   ]
  },
  {
   "cell_type": "code",
   "execution_count": 22,
   "metadata": {
    "collapsed": true
   },
   "outputs": [],
   "source": [
    "\n",
    "\n",
    "#we define all the functions \n",
    "def func_XRa_prime(t,XRa,CY,XR,A):\n",
    "    return kc*XR*A-(gXRa*XRa)-(dXRa*XRa)\n",
    "\n",
    "def func_XR_prime(t,XRa,CY,XR,A):\n",
    "    return a-(kc*A*kXR)-(gXR*XR)+(dXRa*XRa)\n",
    "\n",
    "def func_CY_prime(t,XRa,CY,XR,A):\n",
    "    return aX+(kc*A*XR)-(gCY*CY)\n",
    "\n"
   ]
  },
  {
   "cell_type": "code",
   "execution_count": 23,
   "metadata": {
    "collapsed": false,
    "scrolled": true
   },
   "outputs": [],
   "source": [
    "#First we initialize the arrays\n",
    "t[0] = 0.0\n",
    "XRa[0] = 0.0\n",
    "XR[0] = 0.0\n",
    "CY[0] = 0.0\n",
    "A[0] = 0.0\n",
    "#then we determine the input function\n",
    "for i in range(19800):\n",
    "    A[i]=IN[i]\n",
    "for i in range(19801,n_points):\n",
    "    A[i]=0\n",
    "\n",
    "    \n",
    "#And finally we do 4th order Runge Kutta. \n",
    "for i in range(1,n_points):\n",
    "    \n",
    "    k1_XRa = func_XRa_prime(t[i-1],XRa[i-1],CY[i-1],XR[i-1],A[i-1])\n",
    "    k1_CY = func_CY_prime(t[i-1],XRa[i-1],CY[i-1],XR[i-1],A[i-1])\n",
    "    k1_XR = func_XR_prime(t[i-1],XRa[i-1],CY[i-1],XR[i-1],A[i-1])\n",
    "    \n",
    "    #first step\n",
    "    t1 = t[i-1] + (h/2.0)\n",
    "    XRa1 = XRa[i-1] + (h/2.0) * k1_XRa\n",
    "    CY1 = CY[i-1] + (h/2.0) * k1_CY\n",
    "    XR1 = XR[i-1] + (h/2.0) * k1_XR\n",
    "\n",
    "    k2_XRa = func_XRa_prime(t1,XRa1,CY1,XR1,A[i-1])\n",
    "    k2_CY = func_CY_prime(t1,XRa1,CY1,XR1,A[i-1])\n",
    "    k2_XR = func_XR_prime(t1,XRa1,CY1,XR1,A[i-1])\n",
    "    \n",
    "    \n",
    "    #second step\n",
    "    t2 = t[i-1] + (h/2.0)\n",
    "    XRa2 = XRa[i-1] + (h/2.0) * k2_XRa\n",
    "    CY2 = CY[i-1] + (h/2.0) * k2_CY\n",
    "    XR2 = XR[i-1] + (h/2.0) * k2_XR\n",
    "     \n",
    "    k3_XRa = func_XRa_prime(t2,XRa2,CY2,XR2,A[i-1])\n",
    "    k3_CY = func_CY_prime(t2,XRa2,CY2,XR2,A[i-1])\n",
    "    k3_XR = func_XR_prime(t2,XRa2,CY2,XR2,A[i-1])\n",
    "    \n",
    "    \n",
    "    #third step\n",
    "    t3 = t[i-1] + h\n",
    "    XRa3 = XRa[i-1] + (h/2.0) * k3_XRa\n",
    "    CY3 = CY[i-1] + (h/2.0) * k3_CY\n",
    "    XR3 = XR[i-1] + (h/2.0) * k3_XR\n",
    "    \n",
    "    k4_XRa = func_XRa_prime(t3,XRa3,CY3,XR3,A[i-1])\n",
    "    k4_CY = func_CY_prime(t3,XRa3,CY3,XR3,A[i-1])\n",
    "    k4_XR = func_XR_prime(t3,XRa3,CY3,XR3,A[i-1])\n",
    "    \n",
    "    \n",
    "     #fourth step\n",
    "    average_k_XRa = (1.0/6.0)*(k1_XRa + 2.0*k2_XRa + 2.0*k3_XRa + k4_XRa)\n",
    "    average_k_CY = (1.0/6.0)*(k1_CY + 2.0*k2_CY + 2.0*k3_CY + k4_CY)\n",
    "    average_k_XR = (1.0/6.0)*(k1_XR + 2.0*k2_XR + 2.0*k3_XR + k4_XR)\n",
    "\n",
    "    t[i] = t[i-1] + h\n",
    "    XRa[i] = XRa[i-1] + h * average_k_XRa\n",
    "    CY[i] = CY[i-1] + h * average_k_CY\n",
    "    XR[i] = XR[i-1] + h * average_k_XR\n",
    "    \n",
    "    #if (i < 400):\n",
    "    #    A[i]=0.0\n",
    "    #if (401<i<n_points):\n",
    "    #    A[i]=5000*sin(t[i]/100)+5000\n",
    "  \n",
    "    \n",
    "   \n",
    "    "
   ]
  },
  {
   "cell_type": "code",
   "execution_count": 26,
   "metadata": {
    "collapsed": false
   },
   "outputs": [
    {
     "data": {
      "image/png": "[encoded data removed]",
      "text/plain": [
       "<matplotlib.figure.Figure at 0x7f4474862410>"
      ]
     },
     "metadata": {},
     "output_type": "display_data"
    },
    {
     "data": {
      "text/plain": [
       "<matplotlib.figure.Figure at 0x7f447485afd0>"
      ]
     },
     "metadata": {},
     "output_type": "display_data"
    }
   ],
   "source": [
    "#Plot\n",
    "\n",
    "plot(t,XRa,label='XRa')\n",
    "plot(t,CY,label='CY')\n",
    "#plot(t,XR,label='XR')\n",
    "plot(t,A,label='A')\n",
    "plt.xlabel('t(min)',size=20)\n",
    "plt.ylabel('proteins',size=20)\n",
    "legend()\n",
    "figure(figsize(15,10))\n",
    "plt.savefig(\"Shewanelladet.png\", format='png',bbox_inches='tight',transparent=False)"
   ]
  },
  {
   "cell_type": "code",
   "execution_count": 819,
   "metadata": {
    "collapsed": false
   },
   "outputs": [
    {
     "name": "stdout",
     "output_type": "stream",
     "text": [
      "12000.7379371\n"
     ]
    }
   ],
   "source": [
    "print max(CY)"
   ]
  },
  {
   "cell_type": "code",
   "execution_count": null,
   "metadata": {
    "collapsed": true
   },
   "outputs": [],
   "source": []
  }
 ],
 "metadata": {
  "kernelspec": {
   "display_name": "Python 2",
   "language": "python",
   "name": "python2"
  },
  "language_info": {
   "codemirror_mode": {
    "name": "ipython",
    "version": 2
   },
   "file_extension": ".py",
   "mimetype": "text/x-python",
   "name": "python",
   "nbconvert_exporter": "python",
   "pygments_lexer": "ipython2",
   "version": "2.7.10"
  }
 },
 "nbformat": 4,
 "nbformat_minor": 0
}
