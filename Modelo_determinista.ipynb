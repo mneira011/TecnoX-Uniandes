{
 "cells": [
  {
   "cell_type": "markdown",
   "metadata": {},
   "source": [
    "#Modelo determinista"
   ]
  },
  {
   "cell_type": "code",
   "execution_count": 2,
   "metadata": {
    "collapsed": false
   },
   "outputs": [
    {
     "name": "stdout",
     "output_type": "stream",
     "text": [
      "Populating the interactive namespace from numpy and matplotlib\n"
     ]
    }
   ],
   "source": [
    "%pylab inline"
   ]
  },
  {
   "cell_type": "markdown",
   "metadata": {},
   "source": [
    "#*E.coli*"
   ]
  },
  {
   "cell_type": "code",
   "execution_count": 3,
   "metadata": {
    "collapsed": true
   },
   "outputs": [],
   "source": [
    "#First,we define the value of h,the corresponding range in x and the constants\n",
    "#If you need more information about the parameters of our model please visit our Wiki. \n",
    "h=0.200 #step value\n",
    "aL = 20.0     #Producción basal de EAi\n",
    "bL = 400.0     #Maxima rata de expresión de pLac ---->varia entre 100 y 400\n",
    "kL = 3000.0   #La mitad de la rata de expresión máxima de pLac\n",
    "nL = 2.0      #Coeficiente de Hill de pLac\n",
    "gEA = 0.033  #Constante de degradación de EAi\n",
    "aPr = 20.0    #Producción basal de MER\n",
    "bPr = 580.0   #Maxima rata de expresión de pR #caculado a partir de real\n",
    "kPr = 5800.0  #La mitad del valor máximo de expresión de pR # real \n",
    "nPr = 2.0     #Coeficiente de hill de pR\n",
    "gMER = 0.033  #Constante de degradación de MER\n",
    "bHg = 0.005 #Coeficiente de acople de mercurio a MER #Del estocástico\n",
    "bHgMER = 0.00001406334639 #Coeficiente de acople de HgMER a MER, para crear el dímero HgMER2 #estimado por orden de magnitud\n",
    "dHgMERd =60/(51*15)  #Coeficiente de desacoplamiento del dímero HgMER2 #REAL \n",
    "dHgMER = 60/(47*15)      #Coeficiente de desacoplamiento del compuesto HgMER\n",
    "gHgMER = 0.033  #Constante de degradación de HgMER\n",
    "gHgMERd = 1/51  #Constante de degradación de HgMER2 --------------\n",
    "aPt = 20.0    #Produccion basal del promotor pt\n",
    "bPt = 580.0   #Maxima rata de expresión de pT\n",
    "kPt = 5800.0  #La mitad de la rata de expresión máxima de pT\n",
    "nPt = 2.0     #Coeficiente de Hill de pT\n",
    "gLI = 0.0231   #Constante de degradación de LI\n",
    "gXI = 0.033   #Constante de degradación de XI \n",
    "gEAI=0.00071666667\n",
    "n_points = int((400.0+h)/h)\n",
    "t = zeros(n_points,dtype=np.float64)\n",
    "EA = zeros(n_points,dtype=np.float64)\n",
    "MER=zeros(n_points,dtype=np.float64) #mer dimer  \n",
    "HgMER= zeros(n_points,dtype=np.float64) #mer+hg\n",
    "HgMERd= zeros(n_points,dtype=np.float64) #2mer+hg\n",
    "XI = zeros(n_points,dtype=np.float64)\n",
    "LI= zeros(n_points,dtype=np.float64) \n",
    "Hg= zeros(n_points,dtype=np.float64) \n",
    "#A no cambia"
   ]
  },
  {
   "cell_type": "code",
   "execution_count": 4,
   "metadata": {
    "collapsed": true
   },
   "outputs": [],
   "source": [
    "#we define all the functions \n",
    "\n",
    "def func_EA_prime(t,EA,MER,HgMER,HgMERd,XI,LI,Hg):\n",
    "    return aL + (bL*pow(kL,nL))/(pow(kL,nL)+(pow(LI,nPr)*pow(kL,nL)))- gEA*EA\n",
    "\n",
    "def func_MER_prime(t,EA,MER,HgMER,HgMERd,XI,LI,Hg):\n",
    "    return aPr + bPr/(1+(pow(MER,nPr)/pow(kPr,nPr))) - gMER*MER - bHg*Hg*MER  + dHgMER*HgMER + dHgMERd*HgMERd \n",
    "\n",
    "def func_HgMER_prime(t,EA,MER,HgMER,HgMERd,XI,LI,Hg):\n",
    "    return dHgMERd*HgMERd  + bHg*Hg*MER - dHgMER*HgMER - gHgMER*HgMER - bHgMER*MER*HgMER \n",
    "\n",
    "\n",
    "def func_HgMERd_prime(t,EA,MER,HgMER,HgMERd,XI,LI,Hg):\n",
    "    return bHgMER*MER*HgMER - dHgMERd*HgMERd - gHgMERd*HgMERd\n",
    "\n",
    "\n",
    "\n",
    "def func_XI_prime(t,EA,MER,HgMER,HgMERd,XI,LI,Hg):\n",
    "    return aPt + bPt/(1+(pow(kPt,nPt)/pow(HgMERd,nPt))) - gXI*XI#-gEAI*XI*EA\n",
    "\n",
    "def func_LI_prime(t,EA,MER,HgMER,HgMERd,XI,LI,Hg):\n",
    "    return aPt + bPt/(1+(pow(kPt,nPt)/pow(HgMERd,nPt))) - gLI*LI\n",
    "\n",
    "\n"
   ]
  },
  {
   "cell_type": "code",
   "execution_count": 5,
   "metadata": {
    "collapsed": false
   },
   "outputs": [
    {
     "name": "stderr",
     "output_type": "stream",
     "text": [
      "/home/paula/anaconda/lib/python2.7/site-packages/IPython/kernel/__main__.py:19: RuntimeWarning: divide by zero encountered in double_scalars\n",
      "/home/paula/anaconda/lib/python2.7/site-packages/IPython/kernel/__main__.py:22: RuntimeWarning: divide by zero encountered in double_scalars\n",
      "/home/paula/anaconda/lib/python2.7/site-packages/IPython/kernel/__main__.py:19: RuntimeWarning: overflow encountered in double_scalars\n"
     ]
    },
    {
     "name": "stdout",
     "output_type": "stream",
     "text": [
      "hola\n",
      "[  0.00000000e+00   3.98902176e+00   7.95178823e+00 ...,   1.81813522e+04\n",
      "   1.81813553e+04   1.81813583e+04]\n"
     ]
    },
    {
     "name": "stderr",
     "output_type": "stream",
     "text": [
      "/home/paula/anaconda/lib/python2.7/site-packages/IPython/kernel/__main__.py:22: RuntimeWarning: overflow encountered in double_scalars\n"
     ]
    }
   ],
   "source": [
    "#First we initialize the arrays\n",
    "\n",
    "t[0] = 0.0\n",
    "Hg[0]=0.0\n",
    "EA[0] = 0.0\n",
    "MER[0] = 0.0\n",
    "HgMER[0] = 0.0\n",
    "XI[0]=0.0\n",
    "LI[0]=0.0\n",
    "print \"hola\"\n",
    "HgMERd[0] = 0.0\n",
    "\n",
    "\n",
    "#then we determine the input function\n",
    "#for i in range(400):\n",
    "#    Hg[i]=0.0\n",
    "#for i in range(0,n_points):\n",
    "    #Hg[i]=50000*e**(-(t[i]-80)**2/2*100)\n",
    "    #Hg[i]=sin(t[i]/10) \n",
    "    #Hg[i]=20\n",
    "    \n",
    "\n",
    "               \n",
    "#And finally we do 4th order Runge Kutta. \n",
    "for i in range(1,n_points):\n",
    "    \n",
    "    k1_EA = func_EA_prime(t[i-1],EA[i-1],MER[i-1],HgMER[i-1],HgMERd[i-1],XI[i-1],LI[i-1],Hg[i-1])\n",
    "    k1_MER = func_MER_prime(t[i-1],EA[i-1],MER[i-1],HgMER[i-1],HgMERd[i-1],XI[i-1],LI[i-1],Hg[i-1])\n",
    "    k1_HgMER = func_HgMER_prime(t[i-1],EA[i-1],MER[i-1],HgMER[i-1],HgMERd[i-1],XI[i-1],LI[i-1],Hg[i-1])\n",
    "    k1_HgMERd = func_HgMERd_prime(t[i-1],EA[i-1],MER[i-1],HgMER[i-1],HgMERd[i-1],XI[i-1],LI[i-1],Hg[i-1])\n",
    "    k1_XI = func_XI_prime(t[i-1],EA[i-1],MER[i-1],HgMER[i-1],HgMERd[i-1],XI[i-1],LI[i-1],Hg[i-1])\n",
    "    k1_LI = func_LI_prime(t[i-1],EA[i-1],MER[i-1],HgMER[i-1],HgMERd[i-1],XI[i-1],LI[i-1],Hg[i-1])\n",
    "      \n",
    " \n",
    "    \n",
    "    #first step\n",
    "    t1 = t[i-1] + (h/2.0)\n",
    "    EA1 = EA[i-1] + (h/2.0) * k1_EA\n",
    "    MER1 = MER[i-1] + (h/2.0) * k1_MER\n",
    "    HgMER1 = HgMER[i-1] + (h/2.0) * k1_HgMER\n",
    "    HgMERd1 = HgMERd[i-1] + (h/2.0) * k1_HgMERd\n",
    "    XI1 = XI[i-1] + (h/2.0) * k1_XI\n",
    "    LI1 = LI[i-1] + (h/2.0) * k1_LI\n",
    "   \n",
    "\n",
    "    k2_EA = func_EA_prime(t1,EA1,MER1,HgMER1,HgMERd1,XI1,LI1,Hg[i-1])\n",
    "    k2_MER = func_MER_prime(t1,EA1,MER1,HgMER1,HgMERd1,XI1,LI1,Hg[i-1])\n",
    "    k2_HgMER = func_HgMER_prime(t1,EA1,MER1,HgMER1,HgMERd1,XI1,LI1,Hg[i-1])\n",
    "    k2_HgMERd = func_HgMERd_prime(t1,EA1,MER1,HgMER1,HgMERd1,XI1,LI1,Hg[i-1])\n",
    "    k2_XI = func_XI_prime(t1,EA1,MER1,HgMER1,HgMERd1,XI1,LI1,Hg[i-1])\n",
    "    k2_LI = func_LI_prime(t1,EA1,MER1,HgMER1,HgMERd1,XI1,LI1,Hg[i-1])\n",
    "  \n",
    "    \n",
    "    \n",
    "    #second step\n",
    "    t2 = t[i-1] + (h/2.0)\n",
    "    EA2 = EA[i-1] + (h/2.0) * k2_EA\n",
    "    MER2 = MER[i-1] + (h/2.0) * k2_MER\n",
    "    HgMER2 = HgMER[i-1] + (h/2.0) * k2_HgMER\n",
    "    HgMERd2 = HgMERd[i-1] + (h/2.0) * k2_HgMERd\n",
    "    XI2 = XI[i-1] + (h/2.0) * k2_XI\n",
    "    LI2 = LI[i-1] + (h/2.0) * k2_LI\n",
    "    \n",
    "    \n",
    "    k3_EA = func_EA_prime(t2,EA2,MER2,HgMER2,HgMERd2,XI2,LI2,Hg[i-1])\n",
    "    k3_MER = func_MER_prime(t2,EA2,MER2,HgMER2,HgMERd2,XI2,LI2,Hg[i-1])\n",
    "    k3_HgMER = func_HgMER_prime(t2,EA2,MER2,HgMER2,HgMERd2,XI2,LI2,Hg[i-1])\n",
    "    k3_HgMERd = func_HgMERd_prime(t2,EA2,MER2,HgMER2,HgMERd2,XI2,LI2,Hg[i-1])\n",
    "    k3_XI = func_XI_prime(t2,EA2,MER2,HgMER2,HgMERd2,XI2,LI2,Hg[i-1])\n",
    "    k3_LI = func_LI_prime(t2,EA2,MER2,HgMER2,HgMERd2,XI2,LI2,Hg[i-1])\n",
    "    \n",
    "    #third step\n",
    "    t3 = t[i-1] + (h/2.0)\n",
    "    EA3 = EA[i-1] + (h/2.0) * k3_EA\n",
    "    MER3 = MER[i-1] + (h/2.0) * k3_MER\n",
    "    HgMER3 = HgMER[i-1] + (h/2.0) * k3_HgMER\n",
    "    HgMERd3 = HgMERd[i-1] + (h/2.0) * k3_HgMERd\n",
    "    XI3 = XI[i-1] + (h/2.0) * k3_XI\n",
    "    LI3 = LI[i-1] + (h/2.0) * k3_LI\n",
    "     \n",
    "    k4_EA = func_EA_prime(t3,EA3,MER3,HgMER3,HgMERd3,XI3,LI3,Hg[i-1])\n",
    "    k4_MER = func_MER_prime(t3,EA3,MER3,HgMER3,HgMERd3,XI3,LI3,Hg[i-1])\n",
    "    k4_HgMER = func_HgMER_prime(t3,EA3,MER3,HgMER3,HgMERd3,XI3,LI3,Hg[i-1])\n",
    "    k4_HgMERd = func_HgMERd_prime(t3,EA3,MER3,HgMER3,HgMERd3,XI3,LI3,Hg[i-1])\n",
    "    k4_XI = func_XI_prime(t3,EA3,MER3,HgMER3,HgMERd3,XI3,LI3,Hg[i-1])\n",
    "    k4_LI = func_LI_prime(t3,EA3,MER3,HgMER3,HgMERd3,XI3,LI3,Hg[i-1])\n",
    "    \n",
    "    \n",
    "     #fourth step\n",
    "    average_k_EA = (1.0/6.0)*(k1_EA + 2.0*k2_EA + 2.0*k3_EA + k4_EA)\n",
    "    average_k_MER = (1.0/6.0)*(k1_MER + 2.0*k2_MER + 2.0*k3_MER + k4_MER)\n",
    "    average_k_HgMER = (1.0/6.0)*(k1_HgMER + 2.0*k2_HgMER + 2.0*k3_HgMER + k4_HgMER)\n",
    "    average_k_HgMERd = (1.0/6.0)*(k1_HgMERd + 2.0*k2_HgMERd + 2.0*k3_HgMERd + k4_HgMERd)\n",
    "    average_k_XI = (1.0/6.0)*(k1_XI + 2.0*k2_XI + 2.0*k3_XI + k4_XI)\n",
    "    average_k_LI = (1.0/6.0)*(k1_LI + 2.0*k2_LI + 2.0*k3_LI + k4_LI)\n",
    "   \n",
    "    \n",
    "    t[i] = t[i-1] + h\n",
    "    EA[i] = EA[i-1] + h * average_k_EA\n",
    "    MER[i] = MER[i-1] + h * average_k_MER\n",
    "    HgMER[i] = HgMER[i-1] + h * average_k_HgMER\n",
    "    HgMERd[i] = HgMERd[i-1] + h * average_k_HgMERd\n",
    "    XI[i] = XI[i-1] + h * average_k_XI\n",
    "    LI[i] = LI[i-1] + h * average_k_LI\n",
    "    \n",
    "    \n",
    "    #if (i < 400):\n",
    "    #    Hg[i]=0.0\n",
    "    #if (401<i<n_points):\n",
    "    #    Hg[i]=5000*sin(t[i]/100)+5000\n",
    "    for i in range(0,n_points):\n",
    "        Hg[i]=7000*e**(-(t[i]-80)**2/2*2)\n",
    "        #Hg[i]=20\n",
    "        #Hg[i]=50*e**(-(t[i]-15)**2/2*100)\n",
    "print(XI)\n",
    "    "
   ]
  },
  {
   "cell_type": "code",
   "execution_count": 7,
   "metadata": {
    "collapsed": false
   },
   "outputs": [
    {
     "data": {
      "image/png": "[encoded data removed]",
      "text/plain": [
       "<matplotlib.figure.Figure at 0x7f25e8bc0750>"
      ]
     },
     "metadata": {},
     "output_type": "display_data"
    },
    {
     "data": {
      "text/plain": [
       "<matplotlib.figure.Figure at 0x7f25e8ab0850>"
      ]
     },
     "metadata": {},
     "output_type": "display_data"
    }
   ],
   "source": [
    "#Plot\n",
    "\n",
    "plot(t,EA,label='EA')\n",
    "#plot(t,MER,label='MER')\n",
    "#plot(t,HgMER,label='HgMER')\n",
    "#plot(t,HgMERd,label='HgMER2')\n",
    "plot(t,XI,label='XI')\n",
    "plot(t,LI,label='LI')\n",
    "plot(t,Hg,label='Hg')\n",
    "plt.xlabel('t(min)',size=20)\n",
    "plt.ylabel('proteins',size=20)\n",
    "\n",
    "legend()\n",
    "figure(figsize(15,10))\n",
    "plt.savefig(\"MercuryEcoli.png\", format='png',bbox_inches='tight',transparent=False)\n",
    "numpy.savetxt('inputShew.txt', XI)"
   ]
  },
  {
   "cell_type": "markdown",
   "metadata": {},
   "source": [
    "#Shewanella \n",
    "Se usó el output de *E.coli*  como input en *Shewanella odeinensis* "
   ]
  },
  {
   "cell_type": "code",
   "execution_count": 13,
   "metadata": {
    "collapsed": false
   },
   "outputs": [
    {
     "name": "stdout",
     "output_type": "stream",
     "text": [
      "3001\n"
     ]
    }
   ],
   "source": [
    "IN=numpy.loadtxt(\"inputShew.txt\")\n",
    "#First,we define the value of h,the corresponding range in x and the constants\n",
    "#If you need more information about the parameters of our model please visit our Wiki. \n",
    "h=0.200 #step value\n",
    "a=90.000   #important, adjusted value \n",
    "bXR=100.000 #No va \n",
    "kXR=5000.00 #typical value \n",
    "gXR=0.060 #real, checked \n",
    "dXRa=0.1998 #real, important not checked \n",
    "aX=0.004691138 #real, basal checked, important\n",
    "bX=300.000 #typical value \n",
    "kc=0.00001406334639 #real, important \n",
    "nX=1.000 #Assumed ...why?\n",
    "kx=1409.148 #not important \n",
    "gCY=0.0007+0.01 #important checked, strange value  \n",
    "kXRa=3000.000 #esto no va \n",
    "gXRa=0.0231 #not important not checked  \n",
    "\n",
    "\n",
    "\n",
    "n_points = int((600.0+h)/h)\n",
    "t = zeros(n_points)\n",
    "XR = zeros(n_points)\n",
    "CY = zeros(n_points) \n",
    "A = zeros(n_points)\n",
    "XRa = zeros(n_points)\n",
    "print n_points"
   ]
  },
  {
   "cell_type": "code",
   "execution_count": 16,
   "metadata": {
    "collapsed": true
   },
   "outputs": [],
   "source": [
    "#we define all the functions \n",
    "def func_XRa_prime(t,XRa,CY,XR,A):\n",
    "    return kc*XR*A-(gXRa*XRa)-(dXRa*XRa)\n",
    "\n",
    "def func_XR_prime(t,XRa,CY,XR,A):\n",
    "    return a-(kc*A*XR)-(gXR*XR)+(dXRa*XRa)\n",
    "\n",
    "def func_CY_prime(t,XRa,CY,XR,A):\n",
    "    return aX+(bX*pow(XRa,nX))/(pow(kXR,nX)+pow(XRa,nX))-(gCY*CY)\n"
   ]
  },
  {
   "cell_type": "code",
   "execution_count": 17,
   "metadata": {
    "collapsed": false
   },
   "outputs": [],
   "source": [
    "#First we initialize the arrays\n",
    "t[0] = 0.0\n",
    "XRa[0] = 0.0\n",
    "XR[0] = 0.0\n",
    "CY[0] = 0.0\n",
    "A[0] = 0.0\n",
    "#then we determine the input function\n",
    "for i in range(1500):\n",
    "    A[i]=IN[i]\n",
    "for i in range(1501,n_points):\n",
    "    A[i]=0\n",
    "    \n",
    "    \n",
    "#And finally we do 4th order Runge Kutta. \n",
    "for i in range(1,n_points):\n",
    "    \n",
    "    k1_XRa = func_XRa_prime(t[i-1],XRa[i-1],CY[i-1],XR[i-1],A[i-1])\n",
    "    k1_CY = func_CY_prime(t[i-1],XRa[i-1],CY[i-1],XR[i-1],A[i-1])\n",
    "    k1_XR = func_XR_prime(t[i-1],XRa[i-1],CY[i-1],XR[i-1],A[i-1])\n",
    "    \n",
    "    #first step\n",
    "    t1 = t[i-1] + (h/2.0)\n",
    "    XRa1 = XRa[i-1] + (h/2.0) * k1_XRa\n",
    "    CY1 = CY[i-1] + (h/2.0) * k1_CY\n",
    "    XR1 = XR[i-1] + (h/2.0) * k1_XR\n",
    "\n",
    "    k2_XRa = func_XRa_prime(t1,XRa1,CY1,XR1,A[i-1])\n",
    "    k2_CY = func_CY_prime(t1,XRa1,CY1,XR1,A[i-1])\n",
    "    k2_XR = func_XR_prime(t1,XRa1,CY1,XR1,A[i-1])\n",
    "    \n",
    "    \n",
    "    #second step\n",
    "    t2 = t[i-1] + (h/2.0)\n",
    "    XRa2 = XRa[i-1] + (h/2.0) * k2_XRa\n",
    "    CY2 = CY[i-1] + (h/2.0) * k2_CY\n",
    "    XR2 = XR[i-1] + (h/2.0) * k2_XR\n",
    "     \n",
    "    k3_XRa = func_XRa_prime(t2,XRa2,CY2,XR2,A[i-1])\n",
    "    k3_CY = func_CY_prime(t2,XRa2,CY2,XR2,A[i-1])\n",
    "    k3_XR = func_XR_prime(t2,XRa2,CY2,XR2,A[i-1])\n",
    "    \n",
    "    \n",
    "    #third step\n",
    "    t3 = t[i-1] + h\n",
    "    XRa3 = XRa[i-1] + (h/2.0) * k3_XRa\n",
    "    CY3 = CY[i-1] + (h/2.0) * k3_CY\n",
    "    XR3 = XR[i-1] + (h/2.0) * k3_XR\n",
    "    \n",
    "    k4_XRa = func_XRa_prime(t3,XRa3,CY3,XR3,A[i-1])\n",
    "    k4_CY = func_CY_prime(t3,XRa3,CY3,XR3,A[i-1])\n",
    "    k4_XR = func_XR_prime(t3,XRa3,CY3,XR3,A[i-1])\n",
    "    \n",
    "    \n",
    "     #fourth step\n",
    "    average_k_XRa = (1.0/6.0)*(k1_XRa + 2.0*k2_XRa + 2.0*k3_XRa + k4_XRa)\n",
    "    average_k_CY = (1.0/6.0)*(k1_CY + 2.0*k2_CY + 2.0*k3_CY + k4_CY)\n",
    "    average_k_XR = (1.0/6.0)*(k1_XR + 2.0*k2_XR + 2.0*k3_XR + k4_XR)\n",
    "\n",
    "    t[i] = t[i-1] + h\n",
    "    XRa[i] = XRa[i-1] + h * average_k_XRa\n",
    "    CY[i] = CY[i-1] + h * average_k_CY\n",
    "    XR[i] = XR[i-1] + h * average_k_XR\n",
    "    \n",
    "    if (i < 1500):\n",
    "        A[i]=IN[i]\n",
    "    if (1501<i<n_points):\n",
    "        A[i]=0 \n",
    "    \n",
    "   "
   ]
  },
  {
   "cell_type": "code",
   "execution_count": 18,
   "metadata": {
    "collapsed": false
   },
   "outputs": [
    {
     "data": {
      "image/png": "[encoded data removed]",
      "text/plain": [
       "<matplotlib.figure.Figure at 0x7f25e8889e10>"
      ]
     },
     "metadata": {},
     "output_type": "display_data"
    },
    {
     "data": {
      "text/plain": [
       "<matplotlib.figure.Figure at 0x7f25e8ae8fd0>"
      ]
     },
     "metadata": {},
     "output_type": "display_data"
    }
   ],
   "source": [
    "#Plot\n",
    "\n",
    "plot(t,XRa,label='XRa')\n",
    "plot(t,CY,label='CY')\n",
    "#plot(t,XR,label='XR')\n",
    "plot(t,A,label='A')\n",
    "plt.xlabel('t(min)',size=20)\n",
    "plt.ylabel('proteins',size=20)\n",
    "legend()\n",
    "figure(figsize(15,10))\n",
    "plt.savefig(\"2014.jpg\", format='jpg',bbox_inches='tight',transparent=False)"
   ]
  },
  {
   "cell_type": "markdown",
   "metadata": {},
   "source": [
    "#Otros ejemplos\n",
    "Utilizamos el output de otro proyecto hecho para iGEM en el 2014 para ver cómo reaccionaría *S.odeinensis* como detector de cólera. "
   ]
  },
  {
   "cell_type": "code",
   "execution_count": 19,
   "metadata": {
    "collapsed": true
   },
   "outputs": [],
   "source": [
    "IN=numpy.loadtxt(\"Input2014.txt\")"
   ]
  },
  {
   "cell_type": "code",
   "execution_count": 20,
   "metadata": {
    "collapsed": false
   },
   "outputs": [
    {
     "name": "stdout",
     "output_type": "stream",
     "text": [
      "35001\n"
     ]
    }
   ],
   "source": [
    "#First,we define the value of h,the corresponding range in x and the constants\n",
    "#If you need more information about the parameters of our model please visit our Wiki. \n",
    "h=0.200 #step value\n",
    "a=90.000   #important, adjusted value \n",
    "bXR=300.000 #No va \n",
    "kXR=3000.000 #typical value \n",
    "gXR=0.060 #real, checked \n",
    "dXRa=0.1998 #real, important not checked \n",
    "aX=0.004691138 #real, basal checked, important\n",
    "bX=300.000 #typical value \n",
    "kc=0.000001406334639 #real, important \n",
    "nX=1.000 #Assumed ...why?\n",
    "kx=1409.148 #not important \n",
    "gCY=0.00071666667 #important checked, strange value  \n",
    "kXRa=3000.000 #esto no va \n",
    "gXRa=0.0231 #not important not checked  \n",
    "\n",
    "\n",
    "n_points = int((7000.0+h)/h)\n",
    "t = zeros(n_points)\n",
    "XR = zeros(n_points)\n",
    "CY = zeros(n_points) \n",
    "A = zeros(n_points)\n",
    "XRa = zeros(n_points)\n",
    "#A no cambia \n",
    "print n_points"
   ]
  },
  {
   "cell_type": "code",
   "execution_count": 21,
   "metadata": {
    "collapsed": true
   },
   "outputs": [],
   "source": [
    "#we define all the functions \n",
    "def func_XRa_prime(t,XRa,CY,XR,A):\n",
    "    return kc*XR*A-(gXRa*XRa)-(dXRa*XRa)\n",
    "\n",
    "def func_XR_prime(t,XRa,CY,XR,A):\n",
    "    return a-(kc*A*kXR)-(gXR*XR)+(dXRa*XRa)\n",
    "\n",
    "def func_CY_prime(t,XRa,CY,XR,A):\n",
    "    return aX+(kc*A*XR)-(gCY*CY)\n",
    "\n"
   ]
  },
  {
   "cell_type": "code",
   "execution_count": 22,
   "metadata": {
    "collapsed": true
   },
   "outputs": [],
   "source": [
    "#First we initialize the arrays\n",
    "t[0] = 0.0\n",
    "XRa[0] = 0.0\n",
    "XR[0] = 0.0\n",
    "CY[0] = 0.0\n",
    "A[0] = 0.0\n",
    "#then we determine the input function\n",
    "for i in range(19800):\n",
    "    A[i]=IN[i]\n",
    "for i in range(19801,n_points):\n",
    "    A[i]=0\n",
    "\n",
    "    \n",
    "#And finally we do 4th order Runge Kutta. \n",
    "for i in range(1,n_points):\n",
    "    \n",
    "    k1_XRa = func_XRa_prime(t[i-1],XRa[i-1],CY[i-1],XR[i-1],A[i-1])\n",
    "    k1_CY = func_CY_prime(t[i-1],XRa[i-1],CY[i-1],XR[i-1],A[i-1])\n",
    "    k1_XR = func_XR_prime(t[i-1],XRa[i-1],CY[i-1],XR[i-1],A[i-1])\n",
    "    \n",
    "    #first step\n",
    "    t1 = t[i-1] + (h/2.0)\n",
    "    XRa1 = XRa[i-1] + (h/2.0) * k1_XRa\n",
    "    CY1 = CY[i-1] + (h/2.0) * k1_CY\n",
    "    XR1 = XR[i-1] + (h/2.0) * k1_XR\n",
    "\n",
    "    k2_XRa = func_XRa_prime(t1,XRa1,CY1,XR1,A[i-1])\n",
    "    k2_CY = func_CY_prime(t1,XRa1,CY1,XR1,A[i-1])\n",
    "    k2_XR = func_XR_prime(t1,XRa1,CY1,XR1,A[i-1])\n",
    "    \n",
    "    \n",
    "    #second step\n",
    "    t2 = t[i-1] + (h/2.0)\n",
    "    XRa2 = XRa[i-1] + (h/2.0) * k2_XRa\n",
    "    CY2 = CY[i-1] + (h/2.0) * k2_CY\n",
    "    XR2 = XR[i-1] + (h/2.0) * k2_XR\n",
    "     \n",
    "    k3_XRa = func_XRa_prime(t2,XRa2,CY2,XR2,A[i-1])\n",
    "    k3_CY = func_CY_prime(t2,XRa2,CY2,XR2,A[i-1])\n",
    "    k3_XR = func_XR_prime(t2,XRa2,CY2,XR2,A[i-1])\n",
    "    \n",
    "    \n",
    "    #third step\n",
    "    t3 = t[i-1] + h\n",
    "    XRa3 = XRa[i-1] + (h/2.0) * k3_XRa\n",
    "    CY3 = CY[i-1] + (h/2.0) * k3_CY\n",
    "    XR3 = XR[i-1] + (h/2.0) * k3_XR\n",
    "    \n",
    "    k4_XRa = func_XRa_prime(t3,XRa3,CY3,XR3,A[i-1])\n",
    "    k4_CY = func_CY_prime(t3,XRa3,CY3,XR3,A[i-1])\n",
    "    k4_XR = func_XR_prime(t3,XRa3,CY3,XR3,A[i-1])\n",
    "    \n",
    "    \n",
    "     #fourth step\n",
    "    average_k_XRa = (1.0/6.0)*(k1_XRa + 2.0*k2_XRa + 2.0*k3_XRa + k4_XRa)\n",
    "    average_k_CY = (1.0/6.0)*(k1_CY + 2.0*k2_CY + 2.0*k3_CY + k4_CY)\n",
    "    average_k_XR = (1.0/6.0)*(k1_XR + 2.0*k2_XR + 2.0*k3_XR + k4_XR)\n",
    "\n",
    "    t[i] = t[i-1] + h\n",
    "    XRa[i] = XRa[i-1] + h * average_k_XRa\n",
    "    CY[i] = CY[i-1] + h * average_k_CY\n",
    "    XR[i] = XR[i-1] + h * average_k_XR\n",
    "    \n",
    "    #if (i < 400):\n",
    "    #    A[i]=0.0\n",
    "    #if (401<i<n_points):\n",
    "    #    A[i]=5000*sin(t[i]/100)+5000\n",
    "  "
   ]
  },
  {
   "cell_type": "code",
   "execution_count": 23,
   "metadata": {
    "collapsed": false
   },
   "outputs": [
    {
     "data": {
      "image/png": "[encoded data removed]",
      "text/plain": [
       "<matplotlib.figure.Figure at 0x7f25e89df190>"
      ]
     },
     "metadata": {},
     "output_type": "display_data"
    },
    {
     "data": {
      "text/plain": [
       "<matplotlib.figure.Figure at 0x7f25e88fff90>"
      ]
     },
     "metadata": {},
     "output_type": "display_data"
    }
   ],
   "source": [
    "#Plot\n",
    "\n",
    "plot(t,XRa,label='XRa')\n",
    "plot(t,CY,label='CY')\n",
    "#plot(t,XR,label='XR')\n",
    "plot(t,A,label='A')\n",
    "plt.xlabel('t(min)',size=20)\n",
    "plt.ylabel('proteins',size=20)\n",
    "legend()\n",
    "figure(figsize(15,10))\n",
    "plt.savefig(\"2014.jpg\", format='jpg',bbox_inches='tight',transparent=False)"
   ]
  },
  {
   "cell_type": "code",
   "execution_count": null,
   "metadata": {
    "collapsed": true
   },
   "outputs": [],
   "source": []
  }
 ],
 "metadata": {
  "kernelspec": {
   "display_name": "Python 2",
   "language": "python",
   "name": "python2"
  },
  "language_info": {
   "codemirror_mode": {
    "name": "ipython",
    "version": 2
   },
   "file_extension": ".py",
   "mimetype": "text/x-python",
   "name": "python",
   "nbconvert_exporter": "python",
   "pygments_lexer": "ipython2",
   "version": "2.7.10"
  }
 },
 "nbformat": 4,
 "nbformat_minor": 0
}
